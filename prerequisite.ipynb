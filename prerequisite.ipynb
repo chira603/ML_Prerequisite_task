{
  "nbformat": 4,
  "nbformat_minor": 0,
  "metadata": {
    "colab": {
      "provenance": []
    },
    "kernelspec": {
      "name": "python3",
      "display_name": "Python 3"
    },
    "language_info": {
      "name": "python"
    }
  },
  "cells": [
    {
      "cell_type": "markdown",
      "source": [
        " **Q-1 How many multiplications and additions do you need to perform a matrix multiplication between a (n, k) and (k, m) matrix? Explain.**"
      ],
      "metadata": {
        "id": "BPUWWEucBRzY"
      }
    },
    {
      "cell_type": "markdown",
      "source": [
        "Let's suppose the matrix A and matrix B have dimensions (n,k) and (k,m) respectively. assume that after multiplication we will get resultant matrix C which have dimension of (n,m).\n",
        "\n",
        "here general formula for cij in matrix C given by\n",
        "\n",
        "Cij = aji.bij + ai2.b2j + .... + aik.bik\n",
        "\n",
        "**1. Multiplications**\n",
        "\n",
        " -> here for each element cij , there are k multiplications to do.\n",
        "\n",
        " -> since we have n rows and m coloums in the resultant matrix C. so we have to do total n * m * k Multiplications.\n",
        "\n",
        " **2. Additions**\n",
        "\n",
        "  -> here for each element cij , there are (k-1) additions to do.\n",
        "  ->  since we have n rows and m coloums in the resultant matrix C. so we have to do total n * m * (k-1) Multiplications"
      ],
      "metadata": {
        "id": "OJOxqb6nClib"
      }
    },
    {
      "cell_type": "markdown",
      "source": [
        "**Q-2 Write Python code to multiply the above two matrices. Solve using list of lists and then use numpy. Compare the timing of both solutions. Which one is faster? Why?**"
      ],
      "metadata": {
        "id": "Mbsa_jXtCAv0"
      }
    },
    {
      "cell_type": "code",
      "execution_count": null,
      "metadata": {
        "colab": {
          "base_uri": "https://localhost:8080/"
        },
        "id": "CmHFRtTsBNMm",
        "outputId": "d9b1e2ac-9669-4d2a-f806-116ea83bb6e2"
      },
      "outputs": [
        {
          "output_type": "stream",
          "name": "stdout",
          "text": [
            "Matrix Multiplication using Lists of Lists:\n",
            "[[58, 64], [139, 154]]\n",
            "Time taken: 6.437301635742188e-05 seconds\n",
            "\n",
            "Matrix Multiplication using NumPy:\n",
            "[[ 58  64]\n",
            " [139 154]]\n",
            "Time taken: 0.0001418590545654297 seconds\n"
          ]
        }
      ],
      "source": [
        "import time\n",
        "import numpy as np\n",
        "\n",
        "def matrix_multiply_lists(A, B):\n",
        "    n = len(A)\n",
        "    k = len(A[0])\n",
        "    m = len(B[0])\n",
        "\n",
        "    # Initialize result matrix with zeros\n",
        "    result = [[0 for _ in range(m)] for _ in range(n)]\n",
        "\n",
        "    # Perform matrix multiplication\n",
        "    for i in range(n):\n",
        "        for j in range(m):\n",
        "            for l in range(k):\n",
        "                result[i][j] += A[i][l] * B[l][j]\n",
        "\n",
        "    return result\n",
        "\n",
        "# Example matrices\n",
        "A = [[1, 2, 3], [4, 5, 6]]\n",
        "B = [[7, 8], [9, 10], [11, 12]]\n",
        "\n",
        "# Measure time for list of lists multiplication\n",
        "start_time = time.time()\n",
        "result_lists = matrix_multiply_lists(A, B)\n",
        "end_time = time.time()\n",
        "\n",
        "print(\"Matrix Multiplication using Lists of Lists:\")\n",
        "print(result_lists)\n",
        "print(\"Time taken:\", end_time - start_time, \"seconds\")\n",
        "\n",
        "def matrix_multiply_numpy(A, B):\n",
        "    return np.dot(A, B)\n",
        "\n",
        "# Convert the example matrices to NumPy arrays\n",
        "A_np = np.array(A)\n",
        "B_np = np.array(B)\n",
        "\n",
        "# Measure time for NumPy multiplication\n",
        "start_time = time.time()\n",
        "result_numpy = matrix_multiply_numpy(A_np, B_np)\n",
        "end_time = time.time()\n",
        "\n",
        "print(\"\\nMatrix Multiplication using NumPy:\")\n",
        "print(result_numpy)\n",
        "print(\"Time taken:\", end_time - start_time, \"seconds\")\n"
      ]
    },
    {
      "cell_type": "markdown",
      "source": [
        "NumPy is implemented in C and optimized for numerical operations, making it significantly faster for matrix operations compared to pure Python lists of lists. NumPy utilizes highly optimized, low-level routines, and its operations are often executed in parallel.\n",
        "\n",
        "In most cases, you will find that the NumPy solution is faster. The difference in speed becomes more noticeable for larger matrices. NumPy is widely used in scientific computing and data analysis due to its efficiency and convenience."
      ],
      "metadata": {
        "id": "y6h-YhwCIFWn"
      }
    },
    {
      "cell_type": "markdown",
      "source": [
        "**Q-3 Finding the highest element in a list requires one pass of the array. Finding the second highest element requires 2 passes of the the array. Using this method, what is the time complexity of finding the median of the array? Can you suggest a better method? Can you implement both these methods in Python and compare against numpy.median routine in terms of time?**"
      ],
      "metadata": {
        "id": "I8Iv2m8YIw0b"
      }
    },
    {
      "cell_type": "markdown",
      "source": [
        "\n",
        "Finding the median using the method you described, where you first find the highest element, then the second highest, and so on, requires multiple passes through the array. Specifically, it requires\n",
        "n passes to find the median in an array of size\n",
        "n, where\n",
        "n is the number of elements in the array. This results in a time complexity of\n",
        "O(n^2) for finding the median using this approach.\n",
        "\n",
        "A more efficient approach to find the median is to use a sorting algorithm and then directly access the middle element. This can be done in\n",
        "O(nlogn) time complexity if you use an efficient sorting algorithm.\n",
        "\n",
        "Now, let's implement both the naive approach (using multiple passes) and the sorting approach in Python. We'll compare their performance against the NumPy median routine."
      ],
      "metadata": {
        "id": "xa9boZPDIzyG"
      }
    },
    {
      "cell_type": "code",
      "source": [
        "import time\n",
        "import numpy as np\n",
        "\n",
        "# Naive approach\n",
        "def find_median_naive(arr):\n",
        "    sorted_arr = sorted(arr)\n",
        "    n = len(sorted_arr)\n",
        "    if n % 2 == 1:\n",
        "        return sorted_arr[n // 2]\n",
        "    else:\n",
        "        mid1 = n // 2\n",
        "        mid2 = mid1 - 1\n",
        "        return (sorted_arr[mid1] + sorted_arr[mid2]) / 2\n",
        "\n",
        "# Sorting approach\n",
        "def find_median_sorting(arr):\n",
        "    sorted_arr = sorted(arr)\n",
        "    n = len(sorted_arr)\n",
        "    if n % 2 == 1:\n",
        "        return sorted_arr[n // 2]\n",
        "    else:\n",
        "        mid1 = n // 2\n",
        "        mid2 = mid1 - 1\n",
        "        return (sorted_arr[mid1] + sorted_arr[mid2]) / 2\n",
        "\n",
        "# Generate a random array for testing\n",
        "np.random.seed(42)\n",
        "test_array = np.random.randint(0, 1000, size=10**6).tolist()\n",
        "\n",
        "# Compare performance with NumPy's median routine\n",
        "start_time = time.time()\n",
        "median_naive = find_median_naive(test_array)\n",
        "end_time = time.time()\n",
        "print(f\"Naive Median: {median_naive}\")\n",
        "print(f\"Naive Approach Time: {end_time - start_time} seconds\")\n",
        "\n",
        "start_time = time.time()\n",
        "median_sorting = find_median_sorting(test_array)\n",
        "end_time = time.time()\n",
        "print(f\"Sorting Median: {median_sorting}\")\n",
        "print(f\"Sorting Approach Time: {end_time - start_time} seconds\")\n",
        "\n",
        "start_time = time.time()\n",
        "median_numpy = np.median(test_array)\n",
        "end_time = time.time()\n",
        "print(f\"NumPy Median: {median_numpy}\")\n",
        "print(f\"NumPy Time: {end_time - start_time} seconds\")\n"
      ],
      "metadata": {
        "colab": {
          "base_uri": "https://localhost:8080/"
        },
        "id": "TWurLgyuGzm0",
        "outputId": "71285aad-1423-4845-8b75-3c0632c6b70f"
      },
      "execution_count": null,
      "outputs": [
        {
          "output_type": "stream",
          "name": "stdout",
          "text": [
            "Naive Median: 499.0\n",
            "Naive Approach Time: 0.4065566062927246 seconds\n",
            "Sorting Median: 499.0\n",
            "Sorting Approach Time: 0.23351263999938965 seconds\n",
            "NumPy Median: 499.0\n",
            "NumPy Time: 0.11185216903686523 seconds\n"
          ]
        }
      ]
    },
    {
      "cell_type": "markdown",
      "source": [
        "**Q-4 What is the gradient of the following function with respect to x and y?\n",
        "$$x^2 *y + y^3*sin(x)$$**"
      ],
      "metadata": {
        "id": "_6J2cTZoKQUu"
      }
    },
    {
      "cell_type": "markdown",
      "source": [
        "\n",
        "$F(x, y) = x^2y + y^3 \\sin(x)$ <br><br>\n",
        "$∇F = \\begin{bmatrix}\\frac{\\partial F}{\\partial x} \\\\ \\frac{\\partial F}{\\partial y} \\end{bmatrix} = \\begin{bmatrix} 2xy + y^3 \\cos(x) \\\\ x^2 + 3y^2 \\sin(x)  \\end{bmatrix}$"
      ],
      "metadata": {
        "id": "ez3pnxmYGdYU"
      }
    },
    {
      "cell_type": "markdown",
      "source": [
        "**Q-5 Use JAX to confirm the gradient evaluated by your method matches the analytical solution corresponding to a few random values of x and y**"
      ],
      "metadata": {
        "id": "-DXf4j_SKWpR"
      }
    },
    {
      "cell_type": "code",
      "source": [
        "import jax\n",
        "import jax.numpy as jnp\n",
        "\n",
        "# Define the function\n",
        "def f(x, y):\n",
        "    return x**2 * y + y**3 * jnp.sin(x)\n",
        "\n",
        "# Analytical gradient\n",
        "def analytical_gradient(x, y):\n",
        "    df_dx = 2 * x * y + y**3 * jnp.cos(x)\n",
        "    df_dy = x**2 + 3 * y**2 * jnp.sin(x)\n",
        "    return jnp.array([df_dx, df_dy])\n",
        "\n",
        "# JAX gradient\n",
        "grad_f = jax.grad(f, argnums=(0, 1))\n",
        "\n",
        "# Compare analytical and JAX gradients at random points\n",
        "rng = jax.random.PRNGKey(0)\n",
        "random_points = jax.random.uniform(rng, shape=(5, 2))  # 5 random points (x, y)\n",
        "\n",
        "for point in random_points:\n",
        "    x, y = point\n",
        "    analytical_result = analytical_gradient(x, y)\n",
        "    jax_result = grad_f(x, y)\n",
        "\n",
        "    print(f\"Point: ({x}, {y})\")\n",
        "    print(\"Analytical Gradient:\", analytical_result)\n",
        "    print(\"JAX Gradient:\", jax_result)\n",
        "    print()\n"
      ],
      "metadata": {
        "colab": {
          "base_uri": "https://localhost:8080/"
        },
        "id": "zETC4Rr9Jnib",
        "outputId": "62926249-ffca-46f7-f417-c4f2572d1ef6"
      },
      "execution_count": null,
      "outputs": [
        {
          "output_type": "stream",
          "name": "stdout",
          "text": [
            "Point: (0.3549051284790039, 0.6041990518569946)\n",
            "Analytical Gradient: [0.6356876 0.5065306]\n",
            "JAX Gradient: (Array(0.6356876, dtype=float32), Array(0.5065306, dtype=float32))\n",
            "\n",
            "Point: (0.42758429050445557, 0.23061597347259521)\n",
            "Analytical Gradient: [0.20837635 0.24899001]\n",
            "JAX Gradient: (Array(0.20837635, dtype=float32), Array(0.24899001, dtype=float32))\n",
            "\n",
            "Point: (0.32985854148864746, 0.43953657150268555)\n",
            "Analytical Gradient: [0.37030697 0.29653704]\n",
            "JAX Gradient: (Array(0.37030697, dtype=float32), Array(0.29653704, dtype=float32))\n",
            "\n",
            "Point: (0.2509976625442505, 0.2773057222366333)\n",
            "Analytical Gradient: [0.15986235 0.12029776]\n",
            "JAX Gradient: (Array(0.15986235, dtype=float32), Array(0.12029776, dtype=float32))\n",
            "\n",
            "Point: (0.7678207159042358, 0.7147456407546997)\n",
            "Analytical Gradient: [1.3602813 1.6540341]\n",
            "JAX Gradient: (Array(1.3602813, dtype=float32), Array(1.6540341, dtype=float32))\n",
            "\n"
          ]
        }
      ]
    },
    {
      "cell_type": "markdown",
      "source": [
        "**Q-6 Use sympy to confirm that you obtain the same gradient analytically.**"
      ],
      "metadata": {
        "id": "1jzn3N4cN_lD"
      }
    },
    {
      "cell_type": "code",
      "source": [
        "import sympy as sp\n",
        "\n",
        "# Define symbolic variables\n",
        "x, y = sp.symbols('x y')\n",
        "\n",
        "# Define the function\n",
        "f = x**2 * y + y**3 * sp.sin(x)\n",
        "\n",
        "# Compute the gradient\n",
        "grad_f = [sp.diff(f, var) for var in (x, y)]\n",
        "\n",
        "# Print the analytical gradient\n",
        "print(\"Analytical Gradient:\")\n",
        "print(\"df/dx:\", grad_f[0])\n",
        "print(\"df/dy:\", grad_f[1])\n"
      ],
      "metadata": {
        "colab": {
          "base_uri": "https://localhost:8080/"
        },
        "id": "FXA0Nlu4NyaB",
        "outputId": "b4aac769-8e67-45b9-dcf4-f25b4c012a0c"
      },
      "execution_count": null,
      "outputs": [
        {
          "output_type": "stream",
          "name": "stdout",
          "text": [
            "Analytical Gradient:\n",
            "df/dx: 2*x*y + y**3*cos(x)\n",
            "df/dy: x**2 + 3*y**2*sin(x)\n"
          ]
        }
      ]
    },
    {
      "cell_type": "markdown",
      "source": [
        "**Q-10 Using numpy generate a matrix of size 20X5 containing random numbers drawn uniformly from the range of 1 to 2. Using Pandas create a dataframe out of this matrix. Name the columns of the dataframe as “a”, “b”, “c”, “d”, “e”. Find the column with the highest standard deviation. Find the row with the lowest mean.**"
      ],
      "metadata": {
        "id": "JgXvNXYYOb_R"
      }
    },
    {
      "cell_type": "code",
      "source": [
        " import numpy as np\n",
        "import pandas as pd\n",
        "\n",
        "# Generate a matrix of size 20x5 with random numbers drawn uniformly from the range 1 to 2\n",
        "np.random.seed(42)  # for reproducibility\n",
        "matrix = np.random.uniform(1, 2, size=(20, 5))\n",
        "\n",
        "# Create a DataFrame with column names \"a\", \"b\", \"c\", \"d\", \"e\"\n",
        "df = pd.DataFrame(matrix, columns=[\"a\", \"b\", \"c\", \"d\", \"e\"])\n",
        "\n",
        "# Find the column with the highest standard deviation\n",
        "highest_std_column = df.std().idxmax()\n",
        "\n",
        "# Find the row with the lowest mean\n",
        "lowest_mean_row = df.mean(axis=1).idxmin()\n",
        "\n",
        "# Display the DataFrame and the results\n",
        "print(\"DataFrame:\")\n",
        "print(df)\n",
        "print(\"\\nColumn with Highest Standard Deviation:\", highest_std_column)\n",
        "print(\"Row with Lowest Mean:\", lowest_mean_row)\n"
      ],
      "metadata": {
        "colab": {
          "base_uri": "https://localhost:8080/"
        },
        "id": "NZzro6CTOMw0",
        "outputId": "51f13bd1-fc14-4327-eb98-779f898cdc81"
      },
      "execution_count": null,
      "outputs": [
        {
          "output_type": "stream",
          "name": "stdout",
          "text": [
            "DataFrame:\n",
            "           a         b         c         d         e\n",
            "0   1.374540  1.950714  1.731994  1.598658  1.156019\n",
            "1   1.155995  1.058084  1.866176  1.601115  1.708073\n",
            "2   1.020584  1.969910  1.832443  1.212339  1.181825\n",
            "3   1.183405  1.304242  1.524756  1.431945  1.291229\n",
            "4   1.611853  1.139494  1.292145  1.366362  1.456070\n",
            "5   1.785176  1.199674  1.514234  1.592415  1.046450\n",
            "6   1.607545  1.170524  1.065052  1.948886  1.965632\n",
            "7   1.808397  1.304614  1.097672  1.684233  1.440152\n",
            "8   1.122038  1.495177  1.034389  1.909320  1.258780\n",
            "9   1.662522  1.311711  1.520068  1.546710  1.184854\n",
            "10  1.969585  1.775133  1.939499  1.894827  1.597900\n",
            "11  1.921874  1.088493  1.195983  1.045227  1.325330\n",
            "12  1.388677  1.271349  1.828738  1.356753  1.280935\n",
            "13  1.542696  1.140924  1.802197  1.074551  1.986887\n",
            "14  1.772245  1.198716  1.005522  1.815461  1.706857\n",
            "15  1.729007  1.771270  1.074045  1.358466  1.115869\n",
            "16  1.863103  1.623298  1.330898  1.063558  1.310982\n",
            "17  1.325183  1.729606  1.637557  1.887213  1.472215\n",
            "18  1.119594  1.713245  1.760785  1.561277  1.770967\n",
            "19  1.493796  1.522733  1.427541  1.025419  1.107891\n",
            "\n",
            "Column with Highest Standard Deviation: c\n",
            "Row with Lowest Mean: 11\n"
          ]
        }
      ]
    },
    {
      "cell_type": "markdown",
      "source": [
        "**Q-11 Add a new column to the dataframe called “f” which is the sum of the columns “a”, “b”, “c”, “d”, “e”. Create another column called “g”. The value in the column “g” should be “LT8” if the value in the column “f” is less than 8 and “GT8” otherwise. Find the number of rows in the dataframe where the value in the column “g” is “LT8”. Find the standard deviation of the column “f” for the rows where the value in the column “g” is “LT8” and “GT8” respectively**"
      ],
      "metadata": {
        "id": "fsPYeI5TP7Er"
      }
    },
    {
      "cell_type": "code",
      "source": [
        "import numpy as np\n",
        "import pandas as pd\n",
        "\n",
        "# Generate a matrix of size 20x5 with random numbers drawn uniformly from the range 1 to 2\n",
        "np.random.seed(42)  # for reproducibility\n",
        "matrix = np.random.uniform(1, 2, size=(20, 5))\n",
        "\n",
        "# Create a DataFrame with column names \"a\", \"b\", \"c\", \"d\", \"e\"\n",
        "df = pd.DataFrame(matrix, columns=[\"a\", \"b\", \"c\", \"d\", \"e\"])\n",
        "\n",
        "# Add a new column \"f\" which is the sum of columns \"a\", \"b\", \"c\", \"d\", \"e\"\n",
        "df['f'] = df[['a', 'b', 'c', 'd', 'e']].sum(axis=1)\n",
        "\n",
        "# Create a new column \"g\" based on the value in the column \"f\"\n",
        "df['g'] = np.where(df['f'] < 8, 'LT8', 'GT8')\n",
        "\n",
        "# Find the number of rows where the value in the column \"g\" is \"LT8\"\n",
        "num_lt8_rows = (df['g'] == 'LT8').sum()\n",
        "\n",
        "# Find the standard deviation of column \"f\" for rows where \"g\" is \"LT8\" and \"GT8\"\n",
        "std_lt8 = df.loc[df['g'] == 'LT8', 'f'].std()\n",
        "std_gt8 = df.loc[df['g'] == 'GT8', 'f'].std()\n",
        "\n",
        "# Display the DataFrame and the results\n",
        "print(\"DataFrame:\")\n",
        "print(df)\n",
        "print(\"\\nNumber of Rows where 'g' is 'LT8':\", num_lt8_rows)\n",
        "print(\"Standard Deviation of 'f' where 'g' is 'LT8':\", std_lt8)\n",
        "print(\"Standard Deviation of 'f' where 'g' is 'GT8':\", std_gt8)\n"
      ],
      "metadata": {
        "colab": {
          "base_uri": "https://localhost:8080/"
        },
        "id": "Qb2pX4t1Oy6D",
        "outputId": "5aac654d-a5cc-4775-956f-40f287971c1f"
      },
      "execution_count": null,
      "outputs": [
        {
          "output_type": "stream",
          "name": "stdout",
          "text": [
            "DataFrame:\n",
            "           a         b         c         d         e         f    g\n",
            "0   1.374540  1.950714  1.731994  1.598658  1.156019  7.811925  LT8\n",
            "1   1.155995  1.058084  1.866176  1.601115  1.708073  7.389442  LT8\n",
            "2   1.020584  1.969910  1.832443  1.212339  1.181825  7.217101  LT8\n",
            "3   1.183405  1.304242  1.524756  1.431945  1.291229  6.735577  LT8\n",
            "4   1.611853  1.139494  1.292145  1.366362  1.456070  6.865923  LT8\n",
            "5   1.785176  1.199674  1.514234  1.592415  1.046450  7.137949  LT8\n",
            "6   1.607545  1.170524  1.065052  1.948886  1.965632  7.757638  LT8\n",
            "7   1.808397  1.304614  1.097672  1.684233  1.440152  7.335069  LT8\n",
            "8   1.122038  1.495177  1.034389  1.909320  1.258780  6.819704  LT8\n",
            "9   1.662522  1.311711  1.520068  1.546710  1.184854  7.225866  LT8\n",
            "10  1.969585  1.775133  1.939499  1.894827  1.597900  9.176944  GT8\n",
            "11  1.921874  1.088493  1.195983  1.045227  1.325330  6.576907  LT8\n",
            "12  1.388677  1.271349  1.828738  1.356753  1.280935  7.126452  LT8\n",
            "13  1.542696  1.140924  1.802197  1.074551  1.986887  7.547255  LT8\n",
            "14  1.772245  1.198716  1.005522  1.815461  1.706857  7.498801  LT8\n",
            "15  1.729007  1.771270  1.074045  1.358466  1.115869  7.048657  LT8\n",
            "16  1.863103  1.623298  1.330898  1.063558  1.310982  7.191840  LT8\n",
            "17  1.325183  1.729606  1.637557  1.887213  1.472215  8.051775  GT8\n",
            "18  1.119594  1.713245  1.760785  1.561277  1.770967  7.925868  LT8\n",
            "19  1.493796  1.522733  1.427541  1.025419  1.107891  6.577380  LT8\n",
            "\n",
            "Number of Rows where 'g' is 'LT8': 18\n",
            "Standard Deviation of 'f' where 'g' is 'LT8': 0.4025886500663061\n",
            "Standard Deviation of 'f' where 'g' is 'GT8': 0.7956146881961926\n"
          ]
        }
      ]
    },
    {
      "cell_type": "markdown",
      "source": [
        "**Q9. Using matplotlib plot the following functions on the domain: x = 0.5 to 100.0 in steps of 0.5.**\n",
        "\n",
        "1. $y = x$\n",
        "2. $y = x^2$\n",
        "3. $y = \\frac{x^3}{100}$\n",
        "4. $y = \\sin(x)$\n",
        "5. $y = \\frac{\\sin(x)}{x}$\n",
        "6. $y = \\log(x)$\n",
        "7. $y = e^x$"
      ],
      "metadata": {
        "id": "gExdDtwAdI-G"
      }
    },
    {
      "cell_type": "code",
      "source": [
        "import numpy as np\n",
        "import matplotlib.pyplot as plt\n",
        "\n",
        "# Define the domain (x values)\n",
        "x_values = np.arange(0.5, 100.1, 0.5)\n",
        "\n",
        "# Define the functions\n",
        "y1 = x_values\n",
        "y2 = x_values**2\n",
        "y3 = x_values**3 / 100\n",
        "y4 = np.sin(x_values)\n",
        "y5 = np.sin(x_values) / x_values\n",
        "y6 = np.log(x_values)\n",
        "y7 = np.exp(x_values)\n",
        "\n",
        "# Plotting the functions\n",
        "plt.figure(figsize=(10, 12))\n",
        "\n",
        "# Subplot 1\n",
        "plt.subplot(4, 2, 1)\n",
        "plt.plot(x_values, y1,\"r\")\n",
        "plt.title('y = x')\n",
        "\n",
        "# Subplot 2\n",
        "plt.subplot(4, 2, 2)\n",
        "plt.plot(x_values, y2,\"y\")\n",
        "plt.title('y = x^2')\n",
        "\n",
        "# Subplot 3\n",
        "plt.subplot(4, 2, 3)\n",
        "plt.plot(x_values, y3,\"b\")\n",
        "plt.title('y = x^3 / 100')\n",
        "\n",
        "# Subplot 4\n",
        "plt.subplot(4, 2, 4)\n",
        "plt.plot(x_values, y4,\"g\")\n",
        "plt.title('y = sin(x)')\n",
        "\n",
        "# Subplot 5\n",
        "plt.subplot(4, 2, 5)\n",
        "plt.plot(x_values, y5,\"r\")\n",
        "plt.title('y = sin(x) / x')\n",
        "\n",
        "# Subplot 6\n",
        "plt.subplot(4, 2, 6)\n",
        "plt.plot(x_values, y6,\"y\")\n",
        "plt.title('y = log(x)')\n",
        "\n",
        "# Subplot 7\n",
        "plt.subplot(4, 2, 7)\n",
        "plt.plot(x_values, y7)\n",
        "plt.title('y = e^x')\n",
        "\n",
        "# Adjust layout for better visibility\n",
        "plt.tight_layout()\n",
        "\n",
        "# Show the plots\n",
        "plt.show()\n"
      ],
      "metadata": {
        "colab": {
          "base_uri": "https://localhost:8080/",
          "height": 1000
        },
        "id": "qua_vSYcQEu3",
        "outputId": "4ba03696-f105-49c0-fa40-adb81c51c31d"
      },
      "execution_count": null,
      "outputs": [
        {
          "output_type": "display_data",
          "data": {
            "text/plain": [
              "<Figure size 1000x1200 with 7 Axes>"
            ],
            "image/png": "[encoded data removed]"
          },
          "metadata": {}
        }
      ]
    },
    {
      "cell_type": "markdown",
      "source": [
        "**Q-13 Write a function to compute the argmin of a numpy array. The function should take a numpy array as input and return the index of the minimum element. You can use the np.argmin function to verify your solution**"
      ],
      "metadata": {
        "id": "nQuK56O4eq-m"
      }
    },
    {
      "cell_type": "code",
      "source": [
        "import numpy as np\n",
        "\n",
        "def custom_argmin(arr):\n",
        "    min_value = float('inf')  # initialize with positive infinity\n",
        "    min_index = None\n",
        "\n",
        "    for i, value in enumerate(arr):\n",
        "        if value < min_value:\n",
        "            min_value = value\n",
        "            min_index = i\n",
        "\n",
        "    return min_index\n",
        "\n",
        "# Test the custom_argmin function\n",
        "arr = np.array([5, 2, 8, 1, 6])\n",
        "custom_result = custom_argmin(arr)\n",
        "\n",
        "# Verify the result using np.argmin\n",
        "numpy_result = np.argmin(arr)\n",
        "\n",
        "print(\"Custom argmin result:\", custom_result)\n",
        "print(\"NumPy argmin result:\", numpy_result)\n"
      ],
      "metadata": {
        "colab": {
          "base_uri": "https://localhost:8080/"
        },
        "id": "mpdMxVUMdR7t",
        "outputId": "a757ed78-cb89-4208-ed7d-a2fb45ae724b"
      },
      "execution_count": null,
      "outputs": [
        {
          "output_type": "stream",
          "name": "stdout",
          "text": [
            "Custom argmin result: 3\n",
            "NumPy argmin result: 3\n"
          ]
        }
      ]
    },
    {
      "cell_type": "markdown",
      "source": [
        "**Q-7 Create a Python nested dictionary to represent hierarchical information. We want to store record of students and their marks. Something like:\n",
        "2022\n",
        "Branch 1\n",
        "Roll Number: 1, Name: N, Marks:\n",
        "Maths: 100, English: 70 …\n",
        "Branch 2\n",
        "2023\n",
        "Branch 1\n",
        "Branch 2\n",
        "2024\n",
        "Branch 1\n",
        "Branch 2\n",
        "2025\n",
        "Branch 1\n",
        "Branch 2**"
      ],
      "metadata": {
        "id": "ELNiwmzHDPOl"
      }
    },
    {
      "cell_type": "code",
      "source": [
        "students_data = {\n",
        "    2022: {\n",
        "        'Branch 1': {\n",
        "            1: {'Name': 'N', 'Marks': {'Maths': 100, 'English': 70}}\n",
        "            # Add more students as needed\n",
        "        },\n",
        "        'Branch 2': {\n",
        "            # Add students for Branch 2\n",
        "        }\n",
        "    },\n",
        "    2023: {\n",
        "        'Branch 1': {},\n",
        "        'Branch 2': {}\n",
        "    },\n",
        "    2024: {\n",
        "        'Branch 1': {},\n",
        "        'Branch 2': {}\n",
        "    },\n",
        "    2025: {\n",
        "        'Branch 1': {},\n",
        "        'Branch 2': {}\n",
        "    }\n",
        "}\n",
        "\n",
        "# Example: Accessing data\n",
        "roll_number = 1\n",
        "year = 2022\n",
        "branch = 'Branch 1'\n",
        "subject = 'Maths'\n",
        "\n",
        "marks = students_data[year][branch][roll_number]['Marks'][subject]\n",
        "print(f\"Year: {year}, Branch: {branch}, Roll Number: {roll_number}, Marks in {subject}: {marks}\")\n"
      ],
      "metadata": {
        "colab": {
          "base_uri": "https://localhost:8080/"
        },
        "id": "MmRD2B6yGvTl",
        "outputId": "76328d50-d0ce-4c8e-dcb1-51da42a7d148"
      },
      "execution_count": 1,
      "outputs": [
        {
          "output_type": "stream",
          "name": "stdout",
          "text": [
            "Year: 2022, Branch: Branch 1, Roll Number: 1, Marks in Maths: 100\n"
          ]
        }
      ]
    },
    {
      "cell_type": "markdown",
      "source": [
        "**Q-8 Store the same information using Python classes. We have an overall database which is a list of year objects. Each year contains a list of branches. Each branch contains a list of students. Each student has some properties like name, roll number and has marks in some subjects.**"
      ],
      "metadata": {
        "id": "6M5qzb9AEbJC"
      }
    },
    {
      "cell_type": "code",
      "source": [
        "class Student:\n",
        "    def __init__(self, roll_number, name):\n",
        "        self.roll_number = roll_number\n",
        "        self.name = name\n",
        "        self.marks = {}\n",
        "\n",
        "class Branch:\n",
        "    def __init__(self, name):\n",
        "        self.name = name\n",
        "        self.students = []\n",
        "\n",
        "    def add_student(self, student):\n",
        "        self.students.append(student)\n",
        "\n",
        "class Year:\n",
        "    def __init__(self, year):\n",
        "        self.year = year\n",
        "        self.branches = []\n",
        "\n",
        "    def add_branch(self, branch):\n",
        "        self.branches.append(branch)\n",
        "\n",
        "# Database initialization\n",
        "database = []\n",
        "\n",
        "# Adding data to the database\n",
        "year_2022 = Year(2022)\n",
        "\n",
        "branch_1_2022 = Branch(\"Branch 1\")\n",
        "branch_1_2022.add_student(Student(1, \"N\"))\n",
        "# Add more students as needed\n",
        "\n",
        "branch_2_2022 = Branch(\"Branch 2\")\n",
        "# Add students for Branch 2\n",
        "\n",
        "year_2022.add_branch(branch_1_2022)\n",
        "year_2022.add_branch(branch_2_2022)\n",
        "\n",
        "# Add more years and branches as needed\n",
        "\n",
        "# Adding years to the database\n",
        "database.append(year_2022)\n",
        "# Add more years to the database\n",
        "\n",
        "# Example: Accessing data\n",
        "year = database[0]\n",
        "branch = year.branches[0]\n",
        "student = branch.students[0]\n",
        "\n",
        "subject = 'Maths'\n",
        "marks = student.marks.get(subject, None)\n",
        "print(f\"Year: {year.year}, Branch: {branch.name}, Roll Number: {student.roll_number}, Marks in {subject}: {marks}\")\n"
      ],
      "metadata": {
        "colab": {
          "base_uri": "https://localhost:8080/"
        },
        "id": "Z11KQYjnejkq",
        "outputId": "f48c01f3-6bda-447c-b67c-406ae2382d48"
      },
      "execution_count": null,
      "outputs": [
        {
          "output_type": "stream",
          "name": "stdout",
          "text": [
            "Year: 2022, Branch: Branch 1, Roll Number: 1, Marks in Maths: None\n"
          ]
        }
      ]
    }
  ]
}